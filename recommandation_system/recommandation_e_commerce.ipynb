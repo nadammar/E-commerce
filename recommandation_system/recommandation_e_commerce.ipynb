{
  "nbformat": 4,
  "nbformat_minor": 0,
  "metadata": {
    "colab": {
      "provenance": []
    },
    "kernelspec": {
      "name": "python3",
      "display_name": "Python 3"
    },
    "language_info": {
      "name": "python"
    }
  },
  "cells": [
    {
      "cell_type": "markdown",
      "source": [
        "# User-Based Collaborative Filtering\n",
        "User-based collaborative filtering recommends products based on the preferences of similar users. It finds users who have similar interaction patterns with items and recommends items that these similar users liked."
      ],
      "metadata": {
        "id": "tzwwbjdVWBuw"
      }
    },
    {
      "cell_type": "code",
      "execution_count": null,
      "metadata": {
        "colab": {
          "base_uri": "https://localhost:8080/"
        },
        "id": "Qe_VC1hhT6KA",
        "outputId": "3a1b49ba-9716-43cc-8b02-9ceff54275d6"
      },
      "outputs": [
        {
          "output_type": "stream",
          "name": "stdout",
          "text": [
            "Collecting scikit-surprise\n",
            "  Downloading scikit_surprise-1.1.4.tar.gz (154 kB)\n",
            "\u001b[2K     \u001b[90m━━━━━━━━━━━━━━━━━━━━━━━━━━━━━━━━━━━━━━━━\u001b[0m \u001b[32m154.4/154.4 kB\u001b[0m \u001b[31m1.1 MB/s\u001b[0m eta \u001b[36m0:00:00\u001b[0m\n",
            "\u001b[?25h  Installing build dependencies ... \u001b[?25l\u001b[?25hdone\n",
            "  Getting requirements to build wheel ... \u001b[?25l\u001b[?25hdone\n",
            "  Preparing metadata (pyproject.toml) ... \u001b[?25l\u001b[?25hdone\n",
            "Requirement already satisfied: joblib>=1.2.0 in /usr/local/lib/python3.10/dist-packages (from scikit-surprise) (1.4.2)\n",
            "Requirement already satisfied: numpy>=1.19.5 in /usr/local/lib/python3.10/dist-packages (from scikit-surprise) (1.25.2)\n",
            "Requirement already satisfied: scipy>=1.6.0 in /usr/local/lib/python3.10/dist-packages (from scikit-surprise) (1.11.4)\n",
            "Building wheels for collected packages: scikit-surprise\n",
            "  Building wheel for scikit-surprise (pyproject.toml) ... \u001b[?25l\u001b[?25hdone\n",
            "  Created wheel for scikit-surprise: filename=scikit_surprise-1.1.4-cp310-cp310-linux_x86_64.whl size=2357229 sha256=3efc5908059228c9e652048999a2b9a79f2ecb4826e57fd9f6848e881cdf04da\n",
            "  Stored in directory: /root/.cache/pip/wheels/4b/3f/df/6acbf0a40397d9bf3ff97f582cc22fb9ce66adde75bc71fd54\n",
            "Successfully built scikit-surprise\n",
            "Installing collected packages: scikit-surprise\n",
            "Successfully installed scikit-surprise-1.1.4\n"
          ]
        }
      ],
      "source": [
        "pip install scikit-surprise\n"
      ]
    },
    {
      "cell_type": "code",
      "source": [
        "from surprise import Dataset, Reader\n",
        "from surprise.model_selection import train_test_split\n",
        "from surprise import KNNBasic\n",
        "\n",
        "# Load the data\n",
        "data = Dataset.load_builtin('ml-100k')\n",
        "\n",
        "# Split the data into train and test sets\n",
        "trainset, testset = train_test_split(data, test_size=0.25)\n"
      ],
      "metadata": {
        "colab": {
          "base_uri": "https://localhost:8080/"
        },
        "id": "PjNac_7vT9Ie",
        "outputId": "feea1d0b-8175-44ce-eb48-fe0bdd1865b8"
      },
      "execution_count": null,
      "outputs": [
        {
          "output_type": "stream",
          "name": "stdout",
          "text": [
            "Dataset ml-100k could not be found. Do you want to download it? [Y/n] y\n",
            "Trying to download dataset from https://files.grouplens.org/datasets/movielens/ml-100k.zip...\n",
            "Done! Dataset ml-100k has been saved to /root/.surprise_data/ml-100k\n"
          ]
        }
      ]
    },
    {
      "cell_type": "code",
      "source": [
        "# Use KNNBasic algorithm for user-based collaborative filtering\n",
        "sim_options = {'name': 'cosine', 'user_based': True}\n",
        "model = KNNBasic(sim_options=sim_options)\n",
        "model.fit(trainset)\n"
      ],
      "metadata": {
        "colab": {
          "base_uri": "https://localhost:8080/"
        },
        "id": "TpAsXcyKT9FG",
        "outputId": "ce760abb-1f2f-4c57-9406-a4bf6285e96b"
      },
      "execution_count": null,
      "outputs": [
        {
          "output_type": "stream",
          "name": "stdout",
          "text": [
            "Computing the cosine similarity matrix...\n",
            "Done computing similarity matrix.\n"
          ]
        },
        {
          "output_type": "execute_result",
          "data": {
            "text/plain": [
              "<surprise.prediction_algorithms.knns.KNNBasic at 0x7fc04f799d50>"
            ]
          },
          "metadata": {},
          "execution_count": 3
        }
      ]
    },
    {
      "cell_type": "code",
      "source": [
        "# Function to get recommendations for a user\n",
        "def get_user_based_recommendations(user_id, model, trainset, n=10):\n",
        "    inner_id = trainset.to_inner_uid(user_id)\n",
        "    neighbors = model.get_neighbors(inner_id, k=n)\n",
        "    neighbors = [trainset.to_raw_uid(inner_id) for inner_id in neighbors]\n",
        "    recommended_items = []\n",
        "    for neighbor in neighbors:\n",
        "        recommended_items.extend([iid for iid in trainset.ur[trainset.to_inner_uid(neighbor)]])\n",
        "    return recommended_items[:n]\n",
        "\n",
        "# Example usage\n",
        "user_id = '196'  # Example user ID\n",
        "recommendations = get_user_based_recommendations(user_id, model, trainset, n=10)\n",
        "print(f\"Top 10 user-based recommendations for user {user_id}: {recommendations}\")\n"
      ],
      "metadata": {
        "colab": {
          "base_uri": "https://localhost:8080/"
        },
        "id": "3tYf2YK9T9B9",
        "outputId": "6b5fd69e-db3d-46f1-9571-0bf7b1b062d4"
      },
      "execution_count": null,
      "outputs": [
        {
          "output_type": "stream",
          "name": "stdout",
          "text": [
            "Top 10 user-based recommendations for user 196: [(3, 5.0), (659, 4.0), (21, 3.0), (491, 5.0), (633, 5.0), (89, 2.0), (173, 5.0), (249, 4.0), (383, 5.0), (369, 4.0)]\n"
          ]
        }
      ]
    },
    {
      "cell_type": "markdown",
      "source": [
        "# Item-Based Collaborative Filtering\n",
        "Item-based collaborative filtering recommends products similar to those the user has already interacted with. It finds items that have similar interaction patterns with users and recommends these items."
      ],
      "metadata": {
        "id": "1Luf1s6oZ_lM"
      }
    },
    {
      "cell_type": "code",
      "source": [
        "from surprise import Dataset, Reader\n",
        "from surprise.model_selection import train_test_split\n",
        "from surprise import KNNBasic\n",
        "\n",
        "# Load the data\n",
        "data = Dataset.load_builtin('ml-100k')\n",
        "\n",
        "# Split the data into train and test sets\n",
        "trainset, testset = train_test_split(data, test_size=0.25)\n"
      ],
      "metadata": {
        "id": "K8T34qO2T8-y"
      },
      "execution_count": null,
      "outputs": []
    },
    {
      "cell_type": "code",
      "source": [
        "# Use KNNBasic algorithm for item-based collaborative filtering\n",
        "sim_options = {'name': 'cosine', 'user_based': False}\n",
        "model = KNNBasic(sim_options=sim_options)\n",
        "model.fit(trainset)\n"
      ],
      "metadata": {
        "colab": {
          "base_uri": "https://localhost:8080/"
        },
        "id": "Y_6UYHu3bG7a",
        "outputId": "d022e9ac-a8bc-42a4-b4da-4f549d8c9e72"
      },
      "execution_count": null,
      "outputs": [
        {
          "output_type": "stream",
          "name": "stdout",
          "text": [
            "Computing the cosine similarity matrix...\n",
            "Done computing similarity matrix.\n"
          ]
        },
        {
          "output_type": "execute_result",
          "data": {
            "text/plain": [
              "<surprise.prediction_algorithms.knns.KNNBasic at 0x7fc028903a90>"
            ]
          },
          "metadata": {},
          "execution_count": 6
        }
      ]
    },
    {
      "cell_type": "code",
      "source": [
        "# Function to get recommendations for an item\n",
        "def get_item_based_recommendations(item_id, model, trainset, n=10):\n",
        "    inner_id = trainset.to_inner_iid(item_id)\n",
        "    neighbors = model.get_neighbors(inner_id, k=n)\n",
        "    neighbors = [trainset.to_raw_iid(inner_id) for inner_id in neighbors]\n",
        "    return neighbors\n",
        "\n",
        "# Example usage\n",
        "item_id = '242'  # Example item ID\n",
        "recommendations = get_item_based_recommendations(item_id, model, trainset, n=10)\n",
        "print(f\"Top 10 item-based recommendations for item {item_id}: {recommendations}\")\n"
      ],
      "metadata": {
        "colab": {
          "base_uri": "https://localhost:8080/"
        },
        "id": "HtxUK4o8bG3x",
        "outputId": "537abba5-db74-4be6-fc41-48cf3601abf5"
      },
      "execution_count": null,
      "outputs": [
        {
          "output_type": "stream",
          "name": "stdout",
          "text": [
            "Top 10 item-based recommendations for item 242: ['846', '1157', '916', '998', '363', '719', '542', '620', '445', '1184']\n"
          ]
        }
      ]
    },
    {
      "cell_type": "code",
      "source": [],
      "metadata": {
        "id": "O2pkSRuLbG1x"
      },
      "execution_count": null,
      "outputs": []
    },
    {
      "cell_type": "code",
      "source": [],
      "metadata": {
        "id": "wQsmEzPIT880"
      },
      "execution_count": null,
      "outputs": []
    }
  ]
}